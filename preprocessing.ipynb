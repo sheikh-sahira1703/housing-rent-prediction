{
 "cells": [
  {
   "cell_type": "markdown",
   "metadata": {},
   "source": [
    "# Imports"
   ]
  },
  {
   "cell_type": "code",
   "execution_count": 1,
   "metadata": {},
   "outputs": [],
   "source": [
    "import pandas as pd # to interact with dataframes \n",
    "from sklearn.preprocessing import LabelEncoder, OrdinalEncoder #for preprocessing\n",
    "import joblib #to save encoders and models \n",
    "import os #to interact with hardware and create folders "
   ]
  },
  {
   "cell_type": "markdown",
   "metadata": {},
   "source": [
    "# Constants"
   ]
  },
  {
   "cell_type": "code",
   "execution_count": 2,
   "metadata": {},
   "outputs": [],
   "source": [
    "# Initialize filepaths \n",
    "DESTINATION = 'Data/'\n",
    "ORDINAL_ENCODER_PATH = 'Objects/Encoders/OrdinalEncoder/'\n",
    "LABEL_ENCODER_PATH = 'Objects/Encoders/LabelEncoder/'"
   ]
  },
  {
   "cell_type": "markdown",
   "metadata": {},
   "source": [
    "# Reading the Data"
   ]
  },
  {
   "cell_type": "code",
   "execution_count": 3,
   "metadata": {},
   "outputs": [],
   "source": [
    "data = pd.read_csv('_All_Cities_Cleaned.csv') # read the data "
   ]
  },
  {
   "cell_type": "code",
   "execution_count": 4,
   "metadata": {},
   "outputs": [
    {
     "data": {
      "text/html": [
       "<div>\n",
       "<style scoped>\n",
       "    .dataframe tbody tr th:only-of-type {\n",
       "        vertical-align: middle;\n",
       "    }\n",
       "\n",
       "    .dataframe tbody tr th {\n",
       "        vertical-align: top;\n",
       "    }\n",
       "\n",
       "    .dataframe thead th {\n",
       "        text-align: right;\n",
       "    }\n",
       "</style>\n",
       "<table border=\"1\" class=\"dataframe\">\n",
       "  <thead>\n",
       "    <tr style=\"text-align: right;\">\n",
       "      <th></th>\n",
       "      <th>seller_type</th>\n",
       "      <th>bedroom</th>\n",
       "      <th>layout_type</th>\n",
       "      <th>property_type</th>\n",
       "      <th>locality</th>\n",
       "      <th>price</th>\n",
       "      <th>area</th>\n",
       "      <th>furnish_type</th>\n",
       "      <th>bathroom</th>\n",
       "      <th>city</th>\n",
       "    </tr>\n",
       "  </thead>\n",
       "  <tbody>\n",
       "    <tr>\n",
       "      <th>0</th>\n",
       "      <td>OWNER</td>\n",
       "      <td>2.0</td>\n",
       "      <td>BHK</td>\n",
       "      <td>Apartment</td>\n",
       "      <td>Bodakdev</td>\n",
       "      <td>20000.0</td>\n",
       "      <td>1450.0</td>\n",
       "      <td>Furnished</td>\n",
       "      <td>2.0</td>\n",
       "      <td>Ahmedabad</td>\n",
       "    </tr>\n",
       "    <tr>\n",
       "      <th>1</th>\n",
       "      <td>OWNER</td>\n",
       "      <td>1.0</td>\n",
       "      <td>RK</td>\n",
       "      <td>Studio Apartment</td>\n",
       "      <td>CG Road</td>\n",
       "      <td>7350.0</td>\n",
       "      <td>210.0</td>\n",
       "      <td>Semi-Furnished</td>\n",
       "      <td>1.0</td>\n",
       "      <td>Ahmedabad</td>\n",
       "    </tr>\n",
       "    <tr>\n",
       "      <th>2</th>\n",
       "      <td>OWNER</td>\n",
       "      <td>3.0</td>\n",
       "      <td>BHK</td>\n",
       "      <td>Apartment</td>\n",
       "      <td>Jodhpur</td>\n",
       "      <td>22000.0</td>\n",
       "      <td>1900.0</td>\n",
       "      <td>Unfurnished</td>\n",
       "      <td>3.0</td>\n",
       "      <td>Ahmedabad</td>\n",
       "    </tr>\n",
       "    <tr>\n",
       "      <th>3</th>\n",
       "      <td>OWNER</td>\n",
       "      <td>2.0</td>\n",
       "      <td>BHK</td>\n",
       "      <td>Independent House</td>\n",
       "      <td>Sanand</td>\n",
       "      <td>13000.0</td>\n",
       "      <td>1285.0</td>\n",
       "      <td>Semi-Furnished</td>\n",
       "      <td>2.0</td>\n",
       "      <td>Ahmedabad</td>\n",
       "    </tr>\n",
       "    <tr>\n",
       "      <th>4</th>\n",
       "      <td>OWNER</td>\n",
       "      <td>2.0</td>\n",
       "      <td>BHK</td>\n",
       "      <td>Independent House</td>\n",
       "      <td>Navrangpura</td>\n",
       "      <td>18000.0</td>\n",
       "      <td>1600.0</td>\n",
       "      <td>Furnished</td>\n",
       "      <td>2.0</td>\n",
       "      <td>Ahmedabad</td>\n",
       "    </tr>\n",
       "  </tbody>\n",
       "</table>\n",
       "</div>"
      ],
      "text/plain": [
       "  seller_type  bedroom layout_type      property_type     locality    price  \\\n",
       "0       OWNER      2.0         BHK          Apartment     Bodakdev  20000.0   \n",
       "1       OWNER      1.0          RK   Studio Apartment      CG Road   7350.0   \n",
       "2       OWNER      3.0         BHK          Apartment      Jodhpur  22000.0   \n",
       "3       OWNER      2.0         BHK  Independent House       Sanand  13000.0   \n",
       "4       OWNER      2.0         BHK  Independent House  Navrangpura  18000.0   \n",
       "\n",
       "     area    furnish_type  bathroom       city  \n",
       "0  1450.0       Furnished       2.0  Ahmedabad  \n",
       "1   210.0  Semi-Furnished       1.0  Ahmedabad  \n",
       "2  1900.0     Unfurnished       3.0  Ahmedabad  \n",
       "3  1285.0  Semi-Furnished       2.0  Ahmedabad  \n",
       "4  1600.0       Furnished       2.0  Ahmedabad  "
      ]
     },
     "execution_count": 4,
     "metadata": {},
     "output_type": "execute_result"
    }
   ],
   "source": [
    "data.head() # see first 5 rows of the data "
   ]
  },
  {
   "cell_type": "code",
   "execution_count": 5,
   "metadata": {},
   "outputs": [],
   "source": [
    "# create a copy of the subsets of the dataframes for each city\n",
    "ahmedabad = data[data['city'] == 'Ahmedabad'].copy()\n",
    "bangalore = data[data['city'] == 'Bangalore'].copy()\n",
    "chennai = data[data['city'] == 'Chennai'].copy()\n",
    "delhi = data[data['city'] == 'Delhi'].copy()\n",
    "hyderabad = data[data['city'] == 'Hyderabad'].copy()\n",
    "kolkata = data[data['city'] == 'Kolkata'].copy()\n",
    "mumbai = data[data['city'] == 'Mumbai'].copy()\n",
    "pune = data[data['city'] == 'Pune'].copy()"
   ]
  },
  {
   "cell_type": "code",
   "execution_count": 6,
   "metadata": {},
   "outputs": [],
   "source": [
    "df_list = [ahmedabad,bangalore,chennai,delhi,hyderabad,kolkata,mumbai,pune] #store the dataframes in a list\n",
    "cities = ['AHEMDABAD','BANGALORE','CHENNAI','DELHI','HYDERABAD','KOLKATA','MUMBAI','PUNE'] # store the city names in a list\n",
    "df_dict = dict(zip(cities,df_list)) #create a dictionary of dataframes with cities as key"
   ]
  },
  {
   "cell_type": "code",
   "execution_count": 7,
   "metadata": {},
   "outputs": [],
   "source": [
    "def preproccess(df_dict):\n",
    "    for city, df in df_dict.items():\n",
    "        # Handling duplicates and dropping irrelevant columns \n",
    "        df.drop(['city'],axis=1,inplace=True)\n",
    "        df.drop_duplicates(inplace=True)\n",
    "\n",
    "        # Converting columns to upper case \n",
    "        cols = ['SELLER TYPE','BEDROOM','LAYOUT TYPE','PROPERTY TYPE','LOCALITY','PRICE','AREA','FURNISH TYPE','BATHROOM']\n",
    "        df.columns = cols\n",
    "\n",
    "        # Handling furniture type\n",
    "        if not os.path.exists(ORDINAL_ENCODER_PATH):\n",
    "            os.makedirs(ORDINAL_ENCODER_PATH)\n",
    "        enc = OrdinalEncoder(categories=[['Unfurnished','Semi-Furnished','Furnished']]) #build the encoder \n",
    "        df['FURNISH TYPE'] = enc.fit_transform(df[['FURNISH TYPE']]) #do the transformation\n",
    "        if not os.path.exists(os.path.join(ORDINAL_ENCODER_PATH, 'furniture_encoders')): #check if the desired file path exists\n",
    "            os.makedirs(os.path.join(ORDINAL_ENCODER_PATH, 'furniture_encoders')) #if not then make one \n",
    "        joblib.dump(enc, os.path.join(ORDINAL_ENCODER_PATH, 'furniture_encoders', f'{city}_furnish_type_encoder.pkl')) #dump the encoder\n",
    "\n",
    "        # handling seller_type, layout_type, property_type\n",
    "        # group the dataframes by that column and then see the mean of price \n",
    "        # sort the categories in ascending order of the price and store those categories as a list\n",
    "        cat_seller = df.groupby(by=['SELLER TYPE'])['PRICE'].mean().sort_values(ascending=True).index.values.tolist()\n",
    "        cat_layout_type = df.groupby(by=['LAYOUT TYPE'])['PRICE'].mean().sort_values(ascending=True).index.values.tolist()\n",
    "        cat_property_type = df.groupby(by=['PROPERTY TYPE'])['PRICE'].mean().sort_values(ascending=True).index.values.tolist()\n",
    "        # create ordinal encoder for each column as the categories as categories for the ordinal encoder\n",
    "        seller_enc = OrdinalEncoder(categories=[cat_seller])\n",
    "        layout_enc = OrdinalEncoder(categories=[cat_layout_type])\n",
    "        property_enc = OrdinalEncoder(categories=[cat_property_type])\n",
    "        # fit the encoder to that column \n",
    "        df['SELLER TYPE'] = seller_enc.fit_transform(df[['SELLER TYPE']])\n",
    "        df['LAYOUT TYPE'] = layout_enc.fit_transform(df[['LAYOUT TYPE']])\n",
    "        df['PROPERTY TYPE'] = property_enc.fit_transform(df[['PROPERTY TYPE']])\n",
    "        # check if the path exists for that encoder, if not then create the path\n",
    "        if not os.path.exists(os.path.join(ORDINAL_ENCODER_PATH, 'seller_type')):\n",
    "            os.makedirs(os.path.join(ORDINAL_ENCODER_PATH, 'seller_type'))\n",
    "        \n",
    "        if not os.path.exists(os.path.join(ORDINAL_ENCODER_PATH, 'layout_type')):\n",
    "            os.makedirs(os.path.join(ORDINAL_ENCODER_PATH, 'layout_type'))\n",
    "        \n",
    "        if not os.path.exists(os.path.join(ORDINAL_ENCODER_PATH, 'property_type')):\n",
    "            os.makedirs(os.path.join(ORDINAL_ENCODER_PATH, 'property_type'))\n",
    "        # dump the encoder in that file path \n",
    "        joblib.dump(seller_enc, os.path.join(ORDINAL_ENCODER_PATH, 'seller_type', f'{city}_seller_type_encoder.pkl'))\n",
    "        joblib.dump(layout_enc, os.path.join(ORDINAL_ENCODER_PATH, 'layout_type',f'{city}_layout_type_encoder.pkl'))\n",
    "        joblib.dump(property_enc, os.path.join(ORDINAL_ENCODER_PATH, 'property_type',f'{city}_property_type_encoder.pkl'))   \n",
    "\n",
    "        # Handling locality\n",
    "        # convert the locality to upper case for consistency\n",
    "        df['LOCALITY'] = df['LOCALITY'].str.upper()\n",
    "        # check if the path exists, if not then create the folder \n",
    "        if not os.path.exists(LABEL_ENCODER_PATH):\n",
    "            os.makedirs(LABEL_ENCODER_PATH)\n",
    "        # initialize the label encoder \n",
    "        enc = LabelEncoder()\n",
    "        # fit and transform the locality column \n",
    "        df['LOCALITY'] = enc.fit_transform(df['LOCALITY'])\n",
    "        # save the encoder to the desired filepath \n",
    "        joblib.dump(enc, os.path.join(LABEL_ENCODER_PATH, f'{city}_locality_encoder.pkl'))\n",
    "\n",
    "        # Removing outliers \n",
    "        desc = df['PRICE'].describe()\n",
    "        iqr = desc.loc['75%'] - desc.loc['25%']\n",
    "        lower_limit = desc.loc['25%'] - 1.5*iqr\n",
    "        upper_limit = desc.loc['75%'] + 1.5*iqr\n",
    "        df = df[(df['PRICE']>=lower_limit)&(df['PRICE']<=upper_limit)]\n",
    "\n",
    "        # Saving the dataframes \n",
    "        # checking if the path exists, if not then create a path\n",
    "        if not os.path.exists('Data/'):\n",
    "            os.makedirs('Data/')\n",
    "        # save the dataframe to the path \n",
    "        df.to_csv(os.path.join(DESTINATION,f'{city}.csv'),index=False)"
   ]
  },
  {
   "cell_type": "code",
   "execution_count": 8,
   "metadata": {},
   "outputs": [],
   "source": [
    "preproccess(df_dict) # call the preprocess function "
   ]
  },
  {
   "cell_type": "code",
   "execution_count": null,
   "metadata": {},
   "outputs": [],
   "source": []
  }
 ],
 "metadata": {
  "interpreter": {
   "hash": "440417352d35e351716406bf78418b8afcf69d67c180a9408a2a69feaabae790"
  },
  "kernelspec": {
   "display_name": "Python 3.9.6 64-bit ('venv': venv)",
   "name": "python3"
  },
  "language_info": {
   "codemirror_mode": {
    "name": "ipython",
    "version": 3
   },
   "file_extension": ".py",
   "mimetype": "text/x-python",
   "name": "python",
   "nbconvert_exporter": "python",
   "pygments_lexer": "ipython3",
   "version": "3.9.6"
  },
  "orig_nbformat": 4
 },
 "nbformat": 4,
 "nbformat_minor": 2
}
